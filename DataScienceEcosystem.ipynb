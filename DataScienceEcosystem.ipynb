{
 "cells": [
  {
   "cell_type": "markdown",
   "id": "e95531f3-575c-4eb1-83d0-ad39dfb6a23b",
   "metadata": {},
   "source": [
    "# Data Science Tools and Ecosystem"
   ]
  },
  {
   "cell_type": "markdown",
   "id": "32be8aa9-d906-4c97-b93e-54f96e21c8ee",
   "metadata": {},
   "source": [
    "In this notebook, Data Science tools and ecosystem are summarized."
   ]
  },
  {
   "cell_type": "markdown",
   "id": "ceb8e521-3720-43ab-9532-1faa5e8878c3",
   "metadata": {},
   "source": [
    "Objectives:\n",
    "- List popular languages for Data Science\n",
    "- List common libraries used by Data Scientists\n",
    "- Demonstrate arithmetic in Python, like adding and multipling integers\n",
    "- Demonstrate the ability to create markdowns in Jupyter notebooks including lists, tables and headings\n"
   ]
  },
  {
   "cell_type": "markdown",
   "id": "a9b7947c-e1bd-4f11-a3fc-4f86d592bc1a",
   "metadata": {},
   "source": [
    "Some of the popular languages that Data Scientists use are:\n",
    "1. Python\n",
    "2. R\n",
    "3. Java\n",
    "4. C"
   ]
  },
  {
   "cell_type": "markdown",
   "id": "d9aec2f5-9b3f-40fc-aff1-2db2edc0a17e",
   "metadata": {},
   "source": [
    "Some of the commonly used libraries used by Data Scientists include:\n",
    "1. pandas\n",
    "2. scikit-learn\n",
    "3. numpy\n",
    "4. matplotlib"
   ]
  },
  {
   "cell_type": "markdown",
   "id": "7ad7cf46-e709-4ff0-ab7b-cd072b4cddc3",
   "metadata": {},
   "source": [
    "|Data Science Tools|\n",
    "|--------|\n",
    "|Jupyter|\n",
    "|Rstudio|\n",
    "|visual Studio|"
   ]
  },
  {
   "cell_type": "markdown",
   "id": "7a2dc230-2154-40c3-b222-9364ff32a155",
   "metadata": {},
   "source": [
    "### Below are a few examples of evaluating arithmetic expressions in Python"
   ]
  },
  {
   "cell_type": "code",
   "execution_count": 1,
   "id": "1583e5f7-25bb-4d19-82d1-6f73b12bf471",
   "metadata": {},
   "outputs": [
    {
     "data": {
      "text/plain": [
       "17"
      ]
     },
     "execution_count": 1,
     "metadata": {},
     "output_type": "execute_result"
    }
   ],
   "source": [
    "#This a simple arithmetic expression to mutiply then add integers\n",
    "(3*4)+5\n"
   ]
  },
  {
   "cell_type": "code",
   "execution_count": 2,
   "id": "a8912773-cfd8-42e5-a900-ef0106e2c060",
   "metadata": {},
   "outputs": [
    {
     "data": {
      "text/plain": [
       "3.3333333333333335"
      ]
     },
     "execution_count": 2,
     "metadata": {},
     "output_type": "execute_result"
    }
   ],
   "source": [
    "#This will convert 200 minutes to hours by diving by 60\n",
    "200/60"
   ]
  },
  {
   "cell_type": "markdown",
   "id": "21f7011a-7e3f-46e8-9ec8-78da2267f080",
   "metadata": {},
   "source": [
    "# Author\n",
    "Chris Bruot"
   ]
  },
  {
   "cell_type": "code",
   "execution_count": null,
   "id": "d84abf99-0591-49c9-b1f7-028959bdbc55",
   "metadata": {},
   "outputs": [],
   "source": []
  }
 ],
 "metadata": {
  "kernelspec": {
   "display_name": "Python 3 (ipykernel)",
   "language": "python",
   "name": "python3"
  },
  "language_info": {
   "codemirror_mode": {
    "name": "ipython",
    "version": 3
   },
   "file_extension": ".py",
   "mimetype": "text/x-python",
   "name": "python",
   "nbconvert_exporter": "python",
   "pygments_lexer": "ipython3",
   "version": "3.12.8"
  }
 },
 "nbformat": 4,
 "nbformat_minor": 5
}
